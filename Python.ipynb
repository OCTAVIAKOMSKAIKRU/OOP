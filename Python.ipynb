{
  "nbformat": 4,
  "nbformat_minor": 0,
  "metadata": {
    "colab": {
      "provenance": [],
      "authorship_tag": "ABX9TyP5Uryciapepl/S+6gbFa6Y",
      "include_colab_link": true
    },
    "kernelspec": {
      "name": "python3",
      "display_name": "Python 3"
    },
    "language_info": {
      "name": "python"
    }
  },
  "cells": [
    {
      "cell_type": "markdown",
      "metadata": {
        "id": "view-in-github",
        "colab_type": "text"
      },
      "source": [
        "<a href=\"https://colab.research.google.com/github/OCTAVIAKOMSKAIKRU/OOP/blob/main/Python.ipynb\" target=\"_parent\"><img src=\"https://colab.research.google.com/assets/colab-badge.svg\" alt=\"Open In Colab\"/></a>"
      ]
    },
    {
      "cell_type": "code",
      "execution_count": 29,
      "metadata": {
        "colab": {
          "base_uri": "https://localhost:8080/"
        },
        "id": "fym5KdAJ15PH",
        "outputId": "1608f00e-e096-4976-f0a7-3f35615cf756"
      },
      "outputs": [
        {
          "output_type": "stream",
          "name": "stdout",
          "text": [
            "The love of my life!\n"
          ]
        }
      ],
      "source": [
        "class chowder():\n",
        "\n",
        "  def __init__(self, name=str):\n",
        "    self.name = name\n",
        "\n",
        "  def my_love(self):\n",
        "    print(\"The love of my life!\")\n",
        "\n",
        "m = chowder(\"kamogelo\")\n",
        "m.my_love()\n"
      ]
    },
    {
      "cell_type": "code",
      "source": [
        "# Example:\n",
        "\n",
        "# We are going to create a file in the terminal using certain prompts to hold program/test/test_program\n",
        "# The files were constructed within a folder(directory) created to maintain our files (mkdir <folder_name>)\n",
        "# Other prompts used cd ..; vi <file_name>; rm -r <file_name> etc\n",
        "\n",
        "# We will be in the program file to first edit and create our program to output a certain value using operators and 2 variables\n",
        "\n",
        "def add(x, y):\n",
        "  return x + y\n",
        "\n",
        "print(add(10, 5))"
      ],
      "metadata": {
        "colab": {
          "base_uri": "https://localhost:8080/"
        },
        "id": "o4dIhtWa_Gu8",
        "outputId": "f1293240-c315-4581-a117-89bd915b8384"
      },
      "execution_count": 32,
      "outputs": [
        {
          "output_type": "stream",
          "name": "stdout",
          "text": [
            "15\n"
          ]
        }
      ]
    },
    {
      "cell_type": "code",
      "source": [
        "# In order to maintain our module in the calc.py file, we will need to create a new test folder that is going to contain test modules.\n",
        "# By doing this, we will working under a constructed test class( Testing the output using \"special\" methods.\n",
        "\n",
        "import unittest\n",
        "\n",
        "# did not import the file \"ModuleNotFoundError\"\n",
        "import calc\n",
        "\n",
        "class TestCalc(unittest.TestCase):\n",
        "\n",
        "  def test_add(self):\n",
        "    result = calc.add(10, 5)\n",
        "    self.assertEqual((result), 15)"
      ],
      "metadata": {
        "id": "eX9dT6SoDUuE"
      },
      "execution_count": null,
      "outputs": []
    },
    {
      "cell_type": "code",
      "source": [
        "# To run tests, we can use:\n",
        "                          # Terminal = python -m unittest test_calc.py\n",
        "                                          # OR\n",
        "                          #   IDE    = if__name__ == '__main__':\n",
        "                                          # unittest.main()"
      ],
      "metadata": {
        "id": "YwTL2ErOGHBa"
      },
      "execution_count": null,
      "outputs": []
    }
  ]
}